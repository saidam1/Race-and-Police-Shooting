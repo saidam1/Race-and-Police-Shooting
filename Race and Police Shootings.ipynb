{
 "cells": [
  {
   "cell_type": "code",
   "execution_count": 49,
   "metadata": {},
   "outputs": [
    {
     "data": {
      "text/html": [
       "<div>\n",
       "<style scoped>\n",
       "    .dataframe tbody tr th:only-of-type {\n",
       "        vertical-align: middle;\n",
       "    }\n",
       "\n",
       "    .dataframe tbody tr th {\n",
       "        vertical-align: top;\n",
       "    }\n",
       "\n",
       "    .dataframe thead th {\n",
       "        text-align: right;\n",
       "    }\n",
       "</style>\n",
       "<table border=\"1\" class=\"dataframe\">\n",
       "  <thead>\n",
       "    <tr style=\"text-align: right;\">\n",
       "      <th></th>\n",
       "      <th>id</th>\n",
       "      <th>name</th>\n",
       "      <th>date</th>\n",
       "      <th>manner_of_death</th>\n",
       "      <th>armed</th>\n",
       "      <th>age</th>\n",
       "      <th>gender</th>\n",
       "      <th>race</th>\n",
       "      <th>city</th>\n",
       "      <th>state</th>\n",
       "      <th>signs_of_mental_illness</th>\n",
       "      <th>threat_level</th>\n",
       "      <th>flee</th>\n",
       "      <th>body_camera</th>\n",
       "      <th>longitude</th>\n",
       "      <th>latitude</th>\n",
       "      <th>is_geocoding_exact</th>\n",
       "    </tr>\n",
       "  </thead>\n",
       "  <tbody>\n",
       "    <tr>\n",
       "      <th>0</th>\n",
       "      <td>3</td>\n",
       "      <td>Tim Elliot</td>\n",
       "      <td>1/2/2015</td>\n",
       "      <td>shot</td>\n",
       "      <td>gun</td>\n",
       "      <td>53.0</td>\n",
       "      <td>M</td>\n",
       "      <td>A</td>\n",
       "      <td>Shelton</td>\n",
       "      <td>WA</td>\n",
       "      <td>True</td>\n",
       "      <td>attack</td>\n",
       "      <td>Not fleeing</td>\n",
       "      <td>False</td>\n",
       "      <td>-123.122</td>\n",
       "      <td>47.247</td>\n",
       "      <td>True</td>\n",
       "    </tr>\n",
       "    <tr>\n",
       "      <th>1</th>\n",
       "      <td>4</td>\n",
       "      <td>Lewis Lee Lembke</td>\n",
       "      <td>1/2/2015</td>\n",
       "      <td>shot</td>\n",
       "      <td>gun</td>\n",
       "      <td>47.0</td>\n",
       "      <td>M</td>\n",
       "      <td>W</td>\n",
       "      <td>Aloha</td>\n",
       "      <td>OR</td>\n",
       "      <td>False</td>\n",
       "      <td>attack</td>\n",
       "      <td>Not fleeing</td>\n",
       "      <td>False</td>\n",
       "      <td>-122.892</td>\n",
       "      <td>45.487</td>\n",
       "      <td>True</td>\n",
       "    </tr>\n",
       "    <tr>\n",
       "      <th>2</th>\n",
       "      <td>5</td>\n",
       "      <td>John Paul Quintero</td>\n",
       "      <td>1/3/2015</td>\n",
       "      <td>shot and Tasered</td>\n",
       "      <td>unarmed</td>\n",
       "      <td>23.0</td>\n",
       "      <td>M</td>\n",
       "      <td>H</td>\n",
       "      <td>Wichita</td>\n",
       "      <td>KS</td>\n",
       "      <td>False</td>\n",
       "      <td>other</td>\n",
       "      <td>Not fleeing</td>\n",
       "      <td>False</td>\n",
       "      <td>-97.281</td>\n",
       "      <td>37.695</td>\n",
       "      <td>True</td>\n",
       "    </tr>\n",
       "    <tr>\n",
       "      <th>3</th>\n",
       "      <td>8</td>\n",
       "      <td>Matthew Hoffman</td>\n",
       "      <td>1/4/2015</td>\n",
       "      <td>shot</td>\n",
       "      <td>toy weapon</td>\n",
       "      <td>32.0</td>\n",
       "      <td>M</td>\n",
       "      <td>W</td>\n",
       "      <td>San Francisco</td>\n",
       "      <td>CA</td>\n",
       "      <td>True</td>\n",
       "      <td>attack</td>\n",
       "      <td>Not fleeing</td>\n",
       "      <td>False</td>\n",
       "      <td>-122.422</td>\n",
       "      <td>37.763</td>\n",
       "      <td>True</td>\n",
       "    </tr>\n",
       "    <tr>\n",
       "      <th>4</th>\n",
       "      <td>9</td>\n",
       "      <td>Michael Rodriguez</td>\n",
       "      <td>1/4/2015</td>\n",
       "      <td>shot</td>\n",
       "      <td>nail gun</td>\n",
       "      <td>39.0</td>\n",
       "      <td>M</td>\n",
       "      <td>H</td>\n",
       "      <td>Evans</td>\n",
       "      <td>CO</td>\n",
       "      <td>False</td>\n",
       "      <td>attack</td>\n",
       "      <td>Not fleeing</td>\n",
       "      <td>False</td>\n",
       "      <td>-104.692</td>\n",
       "      <td>40.384</td>\n",
       "      <td>True</td>\n",
       "    </tr>\n",
       "  </tbody>\n",
       "</table>\n",
       "</div>"
      ],
      "text/plain": [
       "   id                name      date   manner_of_death       armed   age  \\\n",
       "0   3          Tim Elliot  1/2/2015              shot         gun  53.0   \n",
       "1   4    Lewis Lee Lembke  1/2/2015              shot         gun  47.0   \n",
       "2   5  John Paul Quintero  1/3/2015  shot and Tasered     unarmed  23.0   \n",
       "3   8     Matthew Hoffman  1/4/2015              shot  toy weapon  32.0   \n",
       "4   9   Michael Rodriguez  1/4/2015              shot    nail gun  39.0   \n",
       "\n",
       "  gender race           city state  signs_of_mental_illness threat_level  \\\n",
       "0      M    A        Shelton    WA                     True       attack   \n",
       "1      M    W          Aloha    OR                    False       attack   \n",
       "2      M    H        Wichita    KS                    False        other   \n",
       "3      M    W  San Francisco    CA                     True       attack   \n",
       "4      M    H          Evans    CO                    False       attack   \n",
       "\n",
       "          flee  body_camera  longitude  latitude  is_geocoding_exact  \n",
       "0  Not fleeing        False   -123.122    47.247                True  \n",
       "1  Not fleeing        False   -122.892    45.487                True  \n",
       "2  Not fleeing        False    -97.281    37.695                True  \n",
       "3  Not fleeing        False   -122.422    37.763                True  \n",
       "4  Not fleeing        False   -104.692    40.384                True  "
      ]
     },
     "execution_count": 49,
     "metadata": {},
     "output_type": "execute_result"
    }
   ],
   "source": [
    "#imported police data shooting from Washington Post Data\n",
    "import pandas as pd\n",
    "import numpy as np\n",
    "import datetime as dt \n",
    "import seaborn as sns\n",
    "import scipy.stats as stats\n",
    "import datetime\n",
    "import matplotlib.pyplot as plt\n",
    "%matplotlib inline\n",
    "\n",
    "#the first thing done after import different things we will be using is brining in the data to be analyzed.\n",
    "shooting_data = pd.read_csv('C:\\\\Users\\\\mukta\\\\Downloads\\police_shooting.csv')\n",
    "\n",
    "#I just showed the first few of rows of the data to present all the columns and show what it looks like.\n",
    "shooting_data.head()"
   ]
  },
  {
   "cell_type": "code",
   "execution_count": 99,
   "metadata": {},
   "outputs": [
    {
     "data": {
      "text/plain": [
       "<matplotlib.axes._subplots.AxesSubplot at 0x225baffb040>"
      ]
     },
     "execution_count": 99,
     "metadata": {},
     "output_type": "execute_result"
    },
    {
     "data": {
      "image/png": "[encoded data removed]",
      "text/plain": [
       "<Figure size 432x288 with 1 Axes>"
      ]
     },
     "metadata": {
      "needs_background": "light"
     },
     "output_type": "display_data"
    }
   ],
   "source": [
    "#The next step would be analyzing the data\n",
    "#The first thing to do here is see the trend of increasing Police shootings between white and blacks \n",
    "#and total between them and all races from 2015-2019.\n",
    "#We are only going to 2019 just for this part as the 2020 graph might throw off the way it looks since its not over yet\n",
    "#I used datetime index in order to get just the years from the the date that was given.\n",
    "shooting_data = pd.DataFrame(shooting_data)\n",
    "shooting_data['year']=pd.DatetimeIndex(shooting_data['date']).year\n",
    "\n",
    "#Once we have the year, I specifically want to just look at data between Whites and Blacks\n",
    "#In order to find the total number of shootings within a year I searched all data found within that year and took the length\n",
    "shooting_2015 = len(shooting_data[shooting_data['year']==2015])\n",
    "shooting_2016 = len(shooting_data[shooting_data['year']==2016])\n",
    "shooting_2017 = len(shooting_data[shooting_data['year']==2017])\n",
    "shooting_2018 = len(shooting_data[shooting_data['year']==2018])\n",
    "shooting_2019 = len(shooting_data[shooting_data['year']==2019])\n",
    "\n",
    "#Next I needed to find the total number of shoothings within a year and a race and thus I just added the race (Black and White)\n",
    "shooting_2015_w = len(shooting_data[(shooting_data['year']==2015) & (shooting_data['race']=='W')])\n",
    "shooting_2016_w = len(shooting_data[(shooting_data['year']==2016) & (shooting_data['race']=='W')])\n",
    "shooting_2017_w = len(shooting_data[(shooting_data['year']==2017) & (shooting_data['race']=='W')])\n",
    "shooting_2018_w = len(shooting_data[(shooting_data['year']==2018) & (shooting_data['race']=='W')])\n",
    "shooting_2019_w = len(shooting_data[(shooting_data['year']==2019) & (shooting_data['race']=='W')])\n",
    "shooting_2015_b = len(shooting_data[(shooting_data['year']==2015) & (shooting_data['race']=='B')])\n",
    "shooting_2016_b = len(shooting_data[(shooting_data['year']==2016) & (shooting_data['race']=='B')])\n",
    "shooting_2017_b = len(shooting_data[(shooting_data['year']==2017) & (shooting_data['race']=='B')])\n",
    "shooting_2018_b = len(shooting_data[(shooting_data['year']==2018) & (shooting_data['race']=='B')])\n",
    "shooting_2019_b = len(shooting_data[(shooting_data['year']==2019) & (shooting_data['race']=='B')])\n",
    "\n",
    "#Since I want to look at the total number of shootings of White and Black compared to others I did the total\n",
    "total_2015 = shooting_2015_w + shooting_2015_b\n",
    "total_2016 = shooting_2016_w + shooting_2016_b\n",
    "total_2017 = shooting_2017_w + shooting_2017_b\n",
    "total_2018 = shooting_2018_w + shooting_2018_b\n",
    "total_2019 = shooting_2019_w + shooting_2019_b\n",
    "\n",
    "#Now that I have everything I want in my graph I just put them together in a list to input when I graph\n",
    "whites = [shooting_2015_w,shooting_2016_w,shooting_2017_w,shooting_2018_w,shooting_2019_w]\n",
    "blacks = [shooting_2015_b,shooting_2016_b,shooting_2017_b,shooting_2018_b,shooting_2019_b]\n",
    "total = [total_2015, total_2016, total_2017, total_2018, total_2019]\n",
    "total_with_all_race = [shooting_2015, shooting_2016, shooting_2017, shooting_2018, shooting_2019]\n",
    "index = ['2015','2016','2017','2018','2019']\n",
    "\n",
    "#I thought using a whole dataframe to graph my bar graph is good since it would be color coded, and easy to input everything\n",
    "policeshootings = pd.DataFrame({'whites': whites,'blacks': blacks, 'total': total,'all races included total shooting': \n",
    "                   total_with_all_race} , index=index)\n",
    "\n",
    "policeshootings.plot.bar()"
   ]
  },
  {
   "cell_type": "code",
   "execution_count": 100,
   "metadata": {},
   "outputs": [
    {
     "name": "stdout",
     "output_type": "stream",
     "text": [
      "The number of people from each race that have been killed by Police starting 2015:\n",
      "W    2555\n",
      "B    1329\n",
      "H     930\n",
      "A      93\n",
      "N      79\n",
      "O      47\n",
      "Name: race, dtype: int64\n"
     ]
    },
    {
     "data": {
      "text/plain": [
       "<matplotlib.axes._subplots.AxesSubplot at 0x225baff8370>"
      ]
     },
     "execution_count": 100,
     "metadata": {},
     "output_type": "execute_result"
    },
    {
     "data": {
      "image/png": "[encoded data removed]",
      "text/plain": [
       "<Figure size 432x288 with 1 Axes>"
      ]
     },
     "metadata": {
      "needs_background": "light"
     },
     "output_type": "display_data"
    }
   ],
   "source": [
    "#Next the objective was to see the amount of white,black, hispanic, asian, native that were shot by police from 2015-2020\n",
    "#This will be shown with a bar graph\n",
    "\n",
    "race = shooting_data['race'].value_counts()\n",
    "print(\"The number of people from each race that have been killed by Police starting 2015:\")\n",
    "print(race)\n",
    "plt.title('Number of Police Killings Based on Race')\n",
    "plt.xlabel('Races')\n",
    "plt.ylabel('Number of Killings')\n",
    "race.plot.bar()\n"
   ]
  },
  {
   "cell_type": "code",
   "execution_count": 136,
   "metadata": {},
   "outputs": [
    {
     "name": "stdout",
     "output_type": "stream",
     "text": [
      "The number of White people Killed by police per million of their population is:  12.969543147208121\n",
      "The number of Black people Killed by police per million of their population is:  32.10144927536232\n",
      "Black People are most likely to get killed more than White people at a rate of:  2.4751410987265667 %\n"
     ]
    },
    {
     "data": {
      "text/plain": [
       "<matplotlib.axes._subplots.AxesSubplot at 0x225bb1e1a00>"
      ]
     },
     "execution_count": 136,
     "metadata": {},
     "output_type": "execute_result"
    },
    {
     "data": {
      "image/png": "[encoded data removed]",
      "text/plain": [
       "<Figure size 432x288 with 1 Axes>"
      ]
     },
     "metadata": {
      "needs_background": "light"
     },
     "output_type": "display_data"
    }
   ],
   "source": [
    "#We will now just focus on White and Black Races\n",
    "#The objective next will require us to use the number of white people and the number of black people that were killed\n",
    "#by police and to use the number from the frequency generated I created a dictionary 'killing_per_race'\n",
    "#using the frequency output\n",
    "\n",
    "killing_per_race = shooting_data['race'].value_counts().to_dict()\n",
    "\n",
    "#Since White and Black are the two most races that are killed by police we will focus our study on them\n",
    "#Next we are checking the number of White and Blacks are killed per their population amount and comparing them.\n",
    "#Got the total number populations from Google\n",
    "\n",
    "total_white_population = 197000000\n",
    "total_black_population = 41400000\n",
    "\n",
    "#used the dictionary 'killing_per_race' and the total number of populations of the White and Black race\n",
    "#in order to find the total number of police killing on both races compared to their population\n",
    "#once we got that we needed to find the difference between the rate of Black and White killings by police\n",
    "\n",
    "number_of_white_killed = killing_per_race['W']\n",
    "number_of_black_killed = killing_per_race['B']\n",
    "\n",
    "white_killed_per_million = (number_of_white_killed/total_white_population)*(10**6)\n",
    "black_killed_per_million = (number_of_black_killed/total_black_population)*(10**6)\n",
    "\n",
    "print('The number of White people Killed by police per million of their population is: ', white_killed_per_million)\n",
    "print('The number of Black people Killed by police per million of their population is: ', black_killed_per_million)\n",
    "\n",
    "rate_difference = black_killed_per_million/white_killed_per_million\n",
    "print('Black People are most likely to get killed more than White people at a rate of: ', rate_difference , '%')\n",
    "\n",
    "races_killed_per_million = {'Whites Killed': white_killed_per_million,'Blacks Killed': black_killed_per_million}\n",
    "races_killed_per_million_graph = pd.Series(races_killed_per_million)\n",
    "\n",
    "plt.title('Rate of Police Killings in Races Per Population ')\n",
    "plt.ylabel('Killings per million of race population')\n",
    "races_killed_per_million_graph.plot.bar()"
   ]
  },
  {
   "cell_type": "code",
   "execution_count": 102,
   "metadata": {},
   "outputs": [
    {
     "name": "stdout",
     "output_type": "stream",
     "text": [
      "Number of unarmed White people shot by poolice:  147\n",
      "Number of unarmed Black people shot by poolice:  125\n",
      "Out of the 2555 White people killed 5.7534246575342465 % were killed unarmed\n",
      "Out of the 1329 Black people killed 9.405568096313017 % were killed unarmed\n"
     ]
    },
    {
     "data": {
      "text/plain": [
       "<matplotlib.axes._subplots.AxesSubplot at 0x225bb12b370>"
      ]
     },
     "execution_count": 102,
     "metadata": {},
     "output_type": "execute_result"
    },
    {
     "data": {
      "image/png": "[encoded data removed]",
      "text/plain": [
       "<Figure size 432x288 with 1 Axes>"
      ]
     },
     "metadata": {
      "needs_background": "light"
     },
     "output_type": "display_data"
    }
   ],
   "source": [
    "#We have shown that the rate of Balck People shot by police is higher than those of White people. \n",
    "#Now I would like to show the situations in which each race was killed. \n",
    "#The first comparison we would be making is out of the White and Black people killed by police what percent was unarmed\n",
    "\n",
    "white_unarmed = len(shooting_data[(shooting_data['armed']=='unarmed') & (shooting_data['race']=='W')])\n",
    "print('Number of unarmed White people shot by poolice: ', white_unarmed)\n",
    "black_unarmed = len(shooting_data[(shooting_data['armed']=='unarmed') & (shooting_data['race']=='B')])\n",
    "print('Number of unarmed Black people shot by poolice: ', black_unarmed)\n",
    "\n",
    "percent_white_unarmed = (white_unarmed/number_of_white_killed)*100\n",
    "percent_black_unarmed = (black_unarmed/number_of_black_killed)*100\n",
    "print('Out of the', number_of_white_killed, 'White people killed', percent_white_unarmed, '% were killed unarmed')\n",
    "print('Out of the', number_of_black_killed, 'Black people killed', percent_black_unarmed, '% were killed unarmed')\n",
    "\n",
    "percent_unarmed_killed = {'Unarmed White Killed': percent_white_unarmed, 'Unarmed Black Killed': percent_black_unarmed}\n",
    "percent_unarmed_killed_graph = pd.Series(percent_unarmed_killed)\n",
    "plt.title('Percentage of Unarmed White vs Black People Killed ')\n",
    "plt.ylabel('Percentage')\n",
    "percent_unarmed_killed_graph.plot.bar()"
   ]
  },
  {
   "cell_type": "code",
   "execution_count": 135,
   "metadata": {},
   "outputs": [
    {
     "name": "stdout",
     "output_type": "stream",
     "text": [
      "The number of White people 20 and under that were killed by Police: 112\n",
      "The number of Black people 20 and under that were killed by Police: 155\n",
      "Out of the 2555 there were 112 that were 20 years or younger, that gives a 4.383561643835616 % of the total killed to be 20 or younger\n",
      "Out of the 1329 there were 155 that were 20 years or younger, that gives a 11.662904439428141 % of the total killed to be 20 or younger\n"
     ]
    },
    {
     "data": {
      "text/plain": [
       "<matplotlib.axes._subplots.AxesSubplot at 0x225bb1a9370>"
      ]
     },
     "execution_count": 135,
     "metadata": {},
     "output_type": "execute_result"
    },
    {
     "data": {
      "image/png": "[encoded data removed]",
      "text/plain": [
       "<Figure size 432x288 with 1 Axes>"
      ]
     },
     "metadata": {
      "needs_background": "light"
     },
     "output_type": "display_data"
    }
   ],
   "source": [
    "#Next I want to show that Police are more likely to kill African Americans at a younger age than they are a white person. \n",
    "#Let's take the age of 20 and see what percentage of all those killed starting 2015 were 20 or younger for both races\n",
    "\n",
    "#We got the number of people age 20 or younger by calling the rows the specified things like white and under 20 or black\n",
    "#and under 20\n",
    "\n",
    "young_white_killed = len(shooting_data[(shooting_data['age']<=20)&(shooting_data['race']=='W')])\n",
    "print('The number of White people 20 and under that were killed by Police:', young_white_killed)\n",
    "young_black_killed = len(shooting_data[(shooting_data['age']<=20)&(shooting_data['race']=='B')])\n",
    "print('The number of Black people 20 and under that were killed by Police:', young_black_killed)\n",
    "\n",
    "\n",
    "#Found the percent of the amount of kids from the total amount by just dividing and multiplying by 100\n",
    "\n",
    "percent_young_white_killed = (young_white_killed/number_of_white_killed)*100\n",
    "percent_young_black_killed = (young_black_killed/number_of_black_killed)*100\n",
    "\n",
    "print('Out of the', number_of_white_killed, 'there were', young_white_killed, 'that were 20 years or younger, that gives a',\n",
    "     percent_young_white_killed, '% of the total killed to be 20 or younger')\n",
    "print('Out of the', number_of_black_killed, 'there were', young_black_killed, 'that were 20 years or younger, that gives a',\n",
    "     percent_young_black_killed, '% of the total killed to be 20 or younger')\n",
    "\n",
    "\n",
    "#Made a dictionary with the things I wanted in my graph, in this case the % of young white and black people and then made\n",
    "#a graph using pd.Series for the results.\n",
    "percent_young_killed = {'Young White Killed': percent_young_white_killed, 'Young Black Killed': percent_young_black_killed}\n",
    "percent_young_killed_graph = pd.Series(percent_young_killed)\n",
    "plt.title('Percentage of Young White vs Young Black People Killed ')\n",
    "plt.ylabel('Percentage')\n",
    "percent_young_killed_graph.plot.bar()"
   ]
  },
  {
   "cell_type": "code",
   "execution_count": 151,
   "metadata": {},
   "outputs": [
    {
     "name": "stdout",
     "output_type": "stream",
     "text": [
      "Black people are disproportinatly killed by Police. We will see what percent more Black people are killed than Whites\n",
      "Black people are killed at a 2.4751410987265667 % more than White people\n",
      "Black people are more likely to get killed while unarmed compared to White people\n"
     ]
    }
   ],
   "source": [
    "#For the conclusion we are going to check if Black people are indeed disproportinatlly killed and more unreasonably killed\n",
    "#by Police. \n",
    "#I am going to do that using if else statements, wich a the end should give us whether our assumption was true or not.\n",
    "\n",
    "if black_killed_per_million > white_killed_per_million:\n",
    "    print('Black people are disproportinatly killed by Police. We will see what percent more Black people are killed than Whites')\n",
    "    rate_difference = black_killed_per_million/white_killed_per_million\n",
    "    print('Black people are killed at a', rate_difference, '% more than White people')\n",
    "    if percent_black_unarmed > percent_white_unarmed:\n",
    "        print('Black people are more likely to get killed while unarmed compared to White people')\n",
    "    else: \n",
    "        end\n",
    "        if percent_young_black_killed > percent_young_white_killed:\n",
    "            print('More Black young pepople are more likely to get killed compared to young White people')\n",
    "        else:\n",
    "            end\n",
    "else:\n",
    "    print('Hypothesis not corret')\n",
    " \n"
   ]
  },
  {
   "cell_type": "code",
   "execution_count": null,
   "metadata": {},
   "outputs": [],
   "source": []
  }
 ],
 "metadata": {
  "kernelspec": {
   "display_name": "Python 3",
   "language": "python",
   "name": "python3"
  },
  "language_info": {
   "codemirror_mode": {
    "name": "ipython",
    "version": 3
   },
   "file_extension": ".py",
   "mimetype": "text/x-python",
   "name": "python",
   "nbconvert_exporter": "python",
   "pygments_lexer": "ipython3",
   "version": "3.8.3"
  }
 },
 "nbformat": 4,
 "nbformat_minor": 4
}
